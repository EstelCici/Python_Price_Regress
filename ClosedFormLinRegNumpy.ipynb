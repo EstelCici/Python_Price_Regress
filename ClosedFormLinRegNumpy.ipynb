{
  "metadata": {
    "language_info": {
      "codemirror_mode": {
        "name": "python",
        "version": 3
      },
      "file_extension": ".py",
      "mimetype": "text/x-python",
      "name": "python",
      "nbconvert_exporter": "python",
      "pygments_lexer": "ipython3",
      "version": "3.8"
    },
    "kernelspec": {
      "name": "python",
      "display_name": "Python (Pyodide)",
      "language": "python"
    }
  },
  "nbformat_minor": 4,
  "nbformat": 4,
  "cells": [
    {
      "cell_type": "code",
      "source": "import numpy as np\nimport pandas as pd",
      "metadata": {
        "trusted": true
      },
      "execution_count": 92,
      "outputs": []
    },
    {
      "cell_type": "code",
      "source": "n = 10\np = 2\nx0 = np.ones(n)\nx1 = np.random.normal(20,1,n)\nx2 = np.random.normal(30,1,n)",
      "metadata": {
        "trusted": true
      },
      "execution_count": 93,
      "outputs": []
    },
    {
      "cell_type": "code",
      "source": "X = np.column_stack((x0,x1,x2))\nX",
      "metadata": {
        "trusted": true
      },
      "execution_count": 94,
      "outputs": [
        {
          "execution_count": 94,
          "output_type": "execute_result",
          "data": {
            "text/plain": "array([[ 1.        , 20.54886168, 31.85708788],\n       [ 1.        , 20.06707765, 29.01526243],\n       [ 1.        , 19.92715072, 29.90118435],\n       [ 1.        , 20.5516735 , 29.68163574],\n       [ 1.        , 21.34839285, 30.28737207],\n       [ 1.        , 20.24070868, 29.78233854],\n       [ 1.        , 19.53514153, 28.85449422],\n       [ 1.        , 21.54906973, 30.28215348],\n       [ 1.        , 20.84176568, 28.75399522],\n       [ 1.        , 20.41802496, 32.03452026]])"
          },
          "metadata": {}
        }
      ]
    },
    {
      "cell_type": "code",
      "source": "b = np.arange(1,3+1)\nb.reshape(3,1)\nb.shape",
      "metadata": {
        "trusted": true
      },
      "execution_count": 95,
      "outputs": [
        {
          "execution_count": 95,
          "output_type": "execute_result",
          "data": {
            "text/plain": "(3,)"
          },
          "metadata": {}
        }
      ]
    },
    {
      "cell_type": "code",
      "source": "y =  X @ b\ny",
      "metadata": {
        "trusted": true
      },
      "execution_count": 98,
      "outputs": [
        {
          "execution_count": 98,
          "output_type": "execute_result",
          "data": {
            "text/plain": "array([137.668987  , 128.17994261, 130.55785447, 131.14825422,\n       134.55890192, 130.82843297, 126.63376572, 134.94459992,\n       128.94551703, 137.9396107 ])"
          },
          "metadata": {}
        }
      ]
    },
    {
      "cell_type": "code",
      "source": "np.linalg.inv(X.transpose() @ X) @ X.transpose() @ y",
      "metadata": {
        "trusted": true
      },
      "execution_count": 102,
      "outputs": [
        {
          "execution_count": 102,
          "output_type": "execute_result",
          "data": {
            "text/plain": "array([1., 2., 3.])"
          },
          "metadata": {}
        }
      ]
    },
    {
      "cell_type": "code",
      "source": "def ClosedFormLinRegNumpy(X,y):\n    return np.linalg.inv(X.transpose() @ X) @ X.transpose() @ y",
      "metadata": {
        "trusted": true
      },
      "execution_count": 104,
      "outputs": []
    },
    {
      "cell_type": "code",
      "source": "ClosedFormLinRegNumpy(X,y)",
      "metadata": {
        "trusted": true
      },
      "execution_count": 105,
      "outputs": [
        {
          "execution_count": 105,
          "output_type": "execute_result",
          "data": {
            "text/plain": "array([1., 2., 3.])"
          },
          "metadata": {}
        }
      ]
    },
    {
      "cell_type": "code",
      "source": "",
      "metadata": {},
      "execution_count": null,
      "outputs": []
    }
  ]
}